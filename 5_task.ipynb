{
 "cells": [
  {
   "cell_type": "markdown",
   "id": "85755de8",
   "metadata": {},
   "source": [
    "# Самостоятельное задание #5\n",
    "\n",
    "\n",
    "### Задание 1\n",
    "\n",
    "Допишите функцию, которая принимает список, выбирает из него все элементы с четным индексом и возвращает их в виде списка."
   ]
  },
  {
   "cell_type": "code",
   "execution_count": 70,
   "id": "6ef6d9b3",
   "metadata": {},
   "outputs": [
    {
     "name": "stdout",
     "output_type": "stream",
     "text": [
      "Введите количество принимаемых объектов: 6\n",
      "Введите число: 9\n",
      "Введите число: 8\n",
      "Введите число: 0\n",
      "Введите число: 0\n",
      "Введите число: 5\n",
      "Введите число: 4\n",
      "[8, 0, 0, 4]\n"
     ]
    }
   ],
   "source": [
    "x=int(input('Введите количество принимаемых объектов: '))\n",
    "i=0\n",
    "a=[]\n",
    "for i in range(x):\n",
    "    a.append(int(input('Введите число: ')))\n",
    "z=[]\n",
    "for i in range(x):\n",
    "    if a[i]%2==0:\n",
    "        z.append(a[i])\n",
    "    else:\n",
    "        continue\n",
    "print(z)"
   ]
  },
  {
   "cell_type": "markdown",
   "id": "443974c9",
   "metadata": {},
   "source": [
    "4### Задание 2\n",
    "\n",
    "Допишите функцию, которая принимает список, выбирает из него все элементы, которые больше предыдущего и возвращает их в виде списка.\n"
   ]
  },
  {
   "cell_type": "code",
   "execution_count": 154,
   "id": "3a8cf925",
   "metadata": {},
   "outputs": [
    {
     "name": "stdout",
     "output_type": "stream",
     "text": [
      "Введите количество принимаемых объектов: 4\n",
      "Введите число: 2\n",
      "Введите число: 6\n",
      "Введите число: 3\n",
      "Введите число: 4\n",
      "Введите число, до которого хотите рассмотреть элементы: 3\n",
      "[6]\n"
     ]
    }
   ],
   "source": [
    "x=int(input('Введите количество принимаемых объектов: '))\n",
    "i=0\n",
    "a=[]\n",
    "for i in range(x):\n",
    "    a.append(int(input('Введите число: ')))\n",
    "z=[]\n",
    "c=int(input('Введите число, до которого хотите рассмотреть элементы: '))\n",
    "for i in range(c):\n",
    "    if a[i]>a[c]:\n",
    "        z.append(a[i])\n",
    "    else:\n",
    "        continue\n",
    "print(z)"
   ]
  },
  {
   "cell_type": "markdown",
   "id": "34524ede",
   "metadata": {},
   "source": [
    "### Задание 3\n",
    "\n",
    "Допишите функцию, которая принимает список, меняет местами наибольший и наименьший элементы и возвращает этот список."
   ]
  },
  {
   "cell_type": "code",
   "execution_count": 153,
   "id": "34d2beae",
   "metadata": {},
   "outputs": [
    {
     "name": "stdout",
     "output_type": "stream",
     "text": [
      "Введите количество принимаемых объектов: 4\n",
      "Введите число: 2\n",
      "Введите число: 7\n",
      "Введите число: 4\n",
      "Введите число: 6\n",
      "[2, 7, 4, 6]\n",
      "[7, 2, 4, 6]\n"
     ]
    }
   ],
   "source": [
    "x=int(input('Введите количество принимаемых объектов: '))\n",
    "i=0\n",
    "maxx=0\n",
    "max_i=0\n",
    "minn=1000\n",
    "min_i=0\n",
    "a=[]\n",
    "for i in range(x):\n",
    "    a.append(int(input('Введите число: ')))\n",
    "print(a)\n",
    "for i in range(x):\n",
    "    if a[i]>maxx:\n",
    "        maxx=a[i]\n",
    "        max_i=i\n",
    "    else:\n",
    "        continue\n",
    "for i in range(x):\n",
    "    if a[i]<minn:\n",
    "        minn=a[i]\n",
    "        min_i=i\n",
    "    else:\n",
    "        continue\n",
    "a.remove(minn)\n",
    "a.remove(maxx)\n",
    "a.insert(min_i,maxx)\n",
    "a.insert(max_i,minn)\n",
    "print(a)"
   ]
  },
  {
   "cell_type": "markdown",
   "id": "983869ba",
   "metadata": {},
   "source": [
    "### "
   ]
  }
 ],
 "metadata": {
  "kernelspec": {
   "display_name": "Python 3 (ipykernel)",
   "language": "python",
   "name": "python3"
  },
  "language_info": {
   "codemirror_mode": {
    "name": "ipython",
    "version": 3
   },
   "file_extension": ".py",
   "mimetype": "text/x-python",
   "name": "python",
   "nbconvert_exporter": "python",
   "pygments_lexer": "ipython3",
   "version": "3.9.7"
  }
 },
 "nbformat": 4,
 "nbformat_minor": 5
}
