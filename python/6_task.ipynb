{
 "cells": [
  {
   "cell_type": "markdown",
   "id": "49944faf",
   "metadata": {},
   "source": [
    "# Самостоятельное задание #6\n",
    "\n",
    "\n",
    "### Задание 1\n",
    "\n",
    "\n",
    "Допишите функцию, которая принимает несколько параметров. Первый параметр - словарь, второй параметр - один из ключей данного словаря. Функция должна выводить значение этого ключа."
   ]
  },
  {
   "cell_type": "code",
   "execution_count": 7,
   "id": "3f41a526",
   "metadata": {},
   "outputs": [
    {
     "name": "stdout",
     "output_type": "stream",
     "text": [
      "Введите число, сколько отели бы занести чисел в словарь: 3\n",
      "Введите ключ: 1\n",
      "Введите значение: k\n",
      "Введите ключ: 2\n",
      "Введите значение: h\n",
      "Введите ключ: 3\n",
      "Введите значение: y\n",
      "Введите ключ: 3\n",
      "Значение ключа: y\n"
     ]
    }
   ],
   "source": [
    "x=int(input('Введите число, сколько отели бы занести чисел в словарь: '))\n",
    "a={}\n",
    "for i in range(x):\n",
    "    q=str(input('Введите ключ: '))\n",
    "    w=str(input('Введите значение: '))\n",
    "    a[q]=w\n",
    "b=str(input('Введите ключ: '))\n",
    "print('Значение ключа: '+str(a[b]))"
   ]
  },
  {
   "cell_type": "code",
   "execution_count": null,
   "id": "6091e05b",
   "metadata": {},
   "outputs": [],
   "source": []
  }
 ],
 "metadata": {
  "kernelspec": {
   "display_name": "Python 3 (ipykernel)",
   "language": "python",
   "name": "python3"
  },
  "language_info": {
   "codemirror_mode": {
    "name": "ipython",
    "version": 3
   },
   "file_extension": ".py",
   "mimetype": "text/x-python",
   "name": "python",
   "nbconvert_exporter": "python",
   "pygments_lexer": "ipython3",
   "version": "3.9.7"
  }
 },
 "nbformat": 4,
 "nbformat_minor": 5
}
